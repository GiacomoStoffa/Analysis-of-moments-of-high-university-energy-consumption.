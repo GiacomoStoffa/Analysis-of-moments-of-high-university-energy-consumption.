{
 "cells": [
  {
   "cell_type": "code",
   "execution_count": 1,
   "metadata": {
    "id": "amzq_0wQ1XN-"
   },
   "outputs": [],
   "source": [
    "import pandas as pd\n",
    "import numpy as np\n",
    "import matplotlib.pyplot as plt\n",
    "from scipy.stats import chi2_contingency\n",
    "\n"
   ]
  },
  {
   "cell_type": "code",
   "execution_count": 3,
   "metadata": {
    "id": "-_TP8YqZBZiG"
   },
   "outputs": [],
   "source": [
    "t1 = pd.read_csv('tbats_u1.csv', parse_dates=['dataora'], index_col='dataora')\n",
    "t6 = pd.read_csv('tbats_u6.csv', parse_dates=['dataora'], index_col='dataora')"
   ]
  },
  {
   "cell_type": "code",
   "execution_count": 4,
   "metadata": {
    "colab": {
     "base_uri": "https://localhost:8080/"
    },
    "id": "HH63wF4pCR5i",
    "outputId": "eb9a6769-bf61-4229-c157-113adeddbf33"
   },
   "outputs": [
    {
     "name": "stdout",
     "output_type": "stream",
     "text": [
      "-----EDIFICIO------\n",
      "     Q1    Q2    Q3    Q4\n",
      "1     0     0     0   129\n",
      "2    68     9     8   605\n",
      "3  1425  1146   725  1390\n",
      "4   667   957  1015    84\n",
      "5     0    72   460     0\n",
      "2018 chi2_value: 3986.844152939853 p-value: 0.0\n",
      "     Q1   Q2   Q3    Q4\n",
      "1   151  354  124   153\n",
      "2  1388  894  540  1736\n",
      "3   620  670  786   319\n",
      "4     1  211  652     0\n",
      "5     0   55  106     0\n",
      "2019 chi2_value: 2597.920550542322 p-value: 0.0\n",
      "     Q1    Q2    Q3    Q4\n",
      "1     0     0    24     0\n",
      "2    28   390     0   156\n",
      "3  1605  1466   684  1842\n",
      "4   551   328  1235   210\n",
      "5     0     0   265     0\n",
      "2020 chi2_value: 3143.34008798523 p-value: 0.0\n",
      "-----EDIFICIO------\n",
      "    Q1   Q2   Q3   Q4\n",
      "1    3  124   95  134\n",
      "2  380  673  628  370\n",
      "3  777  523  667  721\n",
      "4  493  484  596  675\n",
      "5  507  380  222  308\n",
      "2018 chi2_value: 491.4547452809043 p-value: 1.4585971282226606e-97\n",
      "    Q1    Q2    Q3    Q4\n",
      "1    0     0     7    64\n",
      "2  146    97     8    98\n",
      "3  898  1067   539  1220\n",
      "4  624   831  1336   699\n",
      "5  492   189   318   127\n",
      "2019 chi2_value: 1179.8095478283033 p-value: 3.855054906499154e-245\n",
      "     Q1    Q2    Q3    Q4\n",
      "1    15     4    25     0\n",
      "2    17   317     9     0\n",
      "3   394  1615   553   908\n",
      "4  1336   248  1621  1285\n",
      "5   422     0     0    15\n",
      "2020 chi2_value: 4062.257887619296 p-value: 0.0\n"
     ]
    }
   ],
   "source": [
    "for ed in [t1, t6]:\n",
    "  print('-----EDIFICIO------')\n",
    "  for year in list(set(ed.index.year)):\n",
    "    tmp_year = ed[ed.index.year == year]\n",
    "    data = tmp_year['trend'] + tmp_year['season_weekly'] + tmp_year['season_daily']\n",
    "    tmp_discr = pd.DataFrame(pd.cut(data, 5, labels=range(1,6))).reset_index()\n",
    "    dfs = [group[0].value_counts()  for _,group in tmp_discr.groupby(pd.Grouper(key='dataora', freq='Q'))]\n",
    "    tmp_table = pd.concat(dfs, axis=1)\n",
    "    tmp_table.columns = ['Q1', 'Q2','Q3','Q4']\n",
    "    print(tmp_table)\n",
    "    print(str(year), 'chi2_value:', chi2_contingency(tmp_table.values)[0],'p-value:', chi2_contingency(tmp_table.values)[1])"
   ]
  },
  {
   "cell_type": "code",
   "execution_count": 5,
   "metadata": {
    "colab": {
     "base_uri": "https://localhost:8080/",
     "height": 1000
    },
    "id": "XvMq-o-P64bX",
    "outputId": "0e85cd28-2a7f-46c1-cb80-0ad62c1614bc"
   },
   "outputs": [
    {
     "data": {
      "image/png": "[encoded data removed]",
      "text/plain": [
       "<Figure size 432x288 with 1 Axes>"
      ]
     },
     "metadata": {
      "needs_background": "light"
     },
     "output_type": "display_data"
    },
    {
     "data": {
      "image/png": "[encoded data removed]",
      "text/plain": [
       "<Figure size 432x288 with 1 Axes>"
      ]
     },
     "metadata": {
      "needs_background": "light"
     },
     "output_type": "display_data"
    },
    {
     "data": {
      "image/png": "[encoded data removed]",
      "text/plain": [
       "<Figure size 432x288 with 1 Axes>"
      ]
     },
     "metadata": {
      "needs_background": "light"
     },
     "output_type": "display_data"
    },
    {
     "data": {
      "image/png": "[encoded data removed]",
      "text/plain": [
       "<Figure size 432x288 with 1 Axes>"
      ]
     },
     "metadata": {
      "needs_background": "light"
     },
     "output_type": "display_data"
    }
   ],
   "source": [
    "for df in dfs:\n",
    "  plt.bar(df.index, df, align='center', alpha=0.5)\n",
    "  plt.show()"
   ]
  }
 ],
 "metadata": {
  "colab": {
   "collapsed_sections": [],
   "name": "statistichine_giacomino_dsa.ipynb",
   "provenance": []
  },
  "kernelspec": {
   "display_name": "Python 3",
   "language": "python",
   "name": "python3"
  },
  "language_info": {
   "codemirror_mode": {
    "name": "ipython",
    "version": 3
   },
   "file_extension": ".py",
   "mimetype": "text/x-python",
   "name": "python",
   "nbconvert_exporter": "python",
   "pygments_lexer": "ipython3",
   "version": "3.9.5"
  }
 },
 "nbformat": 4,
 "nbformat_minor": 1
}
